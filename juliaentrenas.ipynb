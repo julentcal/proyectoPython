{
 "cells": [
  {
   "cell_type": "code",
   "execution_count": null,
   "id": "3433b158",
   "metadata": {},
   "outputs": [],
   "source": [
    "# KATA 1\n",
    "\n",
    "def contar_letras(cadena):\n",
    "    frecuencias = {}\n",
    "    for letra in cadena:\n",
    "        if letra != ' ':\n",
    "            if letra in frecuencias:\n",
    "                frecuencias[letra] += 1\n",
    "            else:\n",
    "                frecuencias[letra] = 1\n",
    "    return frecuencias\n"
   ]
  },
  {
   "cell_type": "code",
   "execution_count": 9,
   "id": "9be3aed5",
   "metadata": {},
   "outputs": [
    {
     "name": "stdout",
     "output_type": "stream",
     "text": [
      "{'k': 1, 'a': 2, 't': 2, 's': 1, 'd': 1, 'e': 1, 'p': 1, 'y': 1, 'h': 1, 'o': 1, 'n': 1}\n"
     ]
    }
   ],
   "source": [
    "texto = \"katas de python\"\n",
    "resultado = contar_letras(texto)\n",
    "print(resultado)"
   ]
  },
  {
   "cell_type": "code",
   "execution_count": 10,
   "id": "606937f8",
   "metadata": {},
   "outputs": [
    {
     "name": "stdout",
     "output_type": "stream",
     "text": [
      "[4, 8, 12, 16, 20]\n"
     ]
    }
   ],
   "source": [
    "# KATA 2\n",
    "\n",
    "numeros = [2, 4, 6, 8, 10]\n",
    "dobles = list(map(lambda x: x * 2, numeros))\n",
    "print(dobles)\n",
    "\n"
   ]
  },
  {
   "cell_type": "code",
   "execution_count": null,
   "id": "e8ba8a53",
   "metadata": {},
   "outputs": [
    {
     "name": "stdout",
     "output_type": "stream",
     "text": [
      "['camion', 'charcon', 'python']\n"
     ]
    }
   ],
   "source": [
    "# KATA 3\n",
    "\n",
    "def buscar_letras_palabras(lista_palabras, objetivo):\n",
    "    return [palabra for palabra in lista_palabras if objetivo in palabra]\n",
    "\n",
    "palabras = [\"camion\", \"charcon\", \"python\", \"perro\", \"ordenador\"]\n",
    "resultado = buscar_letras_palabras(palabras, \"on\")\n",
    "print(resultado)\n",
    "\n"
   ]
  },
  {
   "cell_type": "code",
   "execution_count": null,
   "id": "6935c41f",
   "metadata": {},
   "outputs": [],
   "source": [
    "# KATA 4\n",
    "\n",
    "def diferencia_listas(lista1, lista2):\n",
    "    return list(map(lambda x, y: x - y, lista1, lista2))\n",
    "\n",
    "\n",
    "l1 = [10, 20, 30, 40]\n",
    "l2 = [1, 2, 3, 4]\n",
    "diferencias = diferencia_listas(l1, l2)\n",
    "print(diferencias)"
   ]
  },
  {
   "cell_type": "code",
   "execution_count": 13,
   "id": "0d83e9a7",
   "metadata": {},
   "outputs": [
    {
     "name": "stdout",
     "output_type": "stream",
     "text": [
      "(5.2, 'aprobado')\n"
     ]
    }
   ],
   "source": [
    "# KATA 5\n",
    "\n",
    "def evaluar_media(lista_numeros, nota_aprobado=5):\n",
    "    if not lista_numeros:\n",
    "        return (None, \"sin datos\")\n",
    "    media = sum(lista_numeros) / len(lista_numeros)\n",
    "    estado = \"aprobado\" if media >= nota_aprobado else \"suspenso\"\n",
    "    return (media, estado)\n",
    "\n",
    "\n",
    "notas = [5, 7, 6, 5, 3]\n",
    "resultado = evaluar_media(notas)\n",
    "print(resultado)\n",
    "\n"
   ]
  },
  {
   "cell_type": "code",
   "execution_count": null,
   "id": "b8d1f063",
   "metadata": {},
   "outputs": [],
   "source": [
    "# KATA 6\n",
    "\n",
    "def factorial(n):\n",
    "    if n == 0 or n == 1:\n",
    "        return 1\n",
    "    else:\n",
    "        return n * factorial(n - 1)\n",
    "    \n",
    "\n",
    "print(factorial(6))\n",
    "\n"
   ]
  },
  {
   "cell_type": "code",
   "execution_count": null,
   "id": "14966bdd",
   "metadata": {},
   "outputs": [
    {
     "name": "stdout",
     "output_type": "stream",
     "text": [
      "[\"(1, 'enero')\", \"(2, 'febrero')\", \"(3, 'marzo')\"]\n"
     ]
    }
   ],
   "source": [
    "# KATA 7\n",
    "\n",
    "def tuplas_strings(lista_tuplas):\n",
    "    return list(map(str, lista_tuplas))\n",
    "\n",
    "\n",
    "tuplas = [(1, 'enero'), (2, 'febrero'), (3, 'marzo')]\n",
    "resultado = tuplas_strings(tuplas)\n",
    "print(resultado)\n"
   ]
  },
  {
   "cell_type": "code",
   "execution_count": null,
   "id": "98009088",
   "metadata": {},
   "outputs": [],
   "source": [
    "# KATA 8\n",
    "\n",
    "try:\n",
    "    num1 = float(input(\"Introduce el primer número: \"))\n",
    "    num2 = float(input(\"Introduce el segundo número: \"))\n",
    "    resultado = num1 / num2\n",
    "except ValueError:\n",
    "    print(\"Error: Debes ingresar valores numéricos.\")\n",
    "except ZeroDivisionError:\n",
    "    print(\"Error: No se puede dividir por cero.\")\n",
    "else:\n",
    "    print(f\"Se puede dividir. El resultado es: {resultado}\")\n",
    "finally:\n",
    "    print(\"Programa finalizado.\")\n"
   ]
  },
  {
   "cell_type": "code",
   "execution_count": null,
   "id": "50f5d064",
   "metadata": {},
   "outputs": [
    {
     "name": "stdout",
     "output_type": "stream",
     "text": [
      "['Perro', 'Gato', 'Canario', 'Serpiente']\n"
     ]
    }
   ],
   "source": [
    "# KATA 9\n",
    "\n",
    "def filtrar_mascotas(lista_mascotas):\n",
    "    prohibidas = [\"Mapache\", \"Tigre\", \"Serpiente Pitón\", \"Cocodrilo\", \"Oso\"]\n",
    "    return list(filter(lambda m: m not in prohibidas, lista_mascotas))\n",
    "\n",
    "mascotas = [\"Perro\", \"Gato\", \"Tigre\", \"Canario\", \"Mapache\", \"Serpiente\"]\n",
    "resultado = filtrar_mascotas(mascotas)\n",
    "print(resultado)\n",
    "\n"
   ]
  },
  {
   "cell_type": "code",
   "execution_count": 17,
   "id": "1797073c",
   "metadata": {},
   "outputs": [
    {
     "name": "stdout",
     "output_type": "stream",
     "text": [
      "Error: La lista está vacía, no se puede calcular el promedio.\n"
     ]
    }
   ],
   "source": [
    "# KATA 10\n",
    "\n",
    "class ListaVaciaError(Exception):\n",
    "    pass\n",
    "\n",
    "def calcular_promedio(lista):\n",
    "    if not lista:\n",
    "        raise ListaVaciaError(\"La lista está vacía, no se puede calcular el promedio.\")\n",
    "    return sum(lista) / len(lista)\n",
    "\n",
    "try:\n",
    "    numeros = []\n",
    "    promedio = calcular_promedio(numeros)\n",
    "    print(f\"El promedio es: {promedio}\")\n",
    "except ListaVaciaError as e:\n",
    "    print(f\"Error: {e}\")\n",
    "\n"
   ]
  },
  {
   "cell_type": "code",
   "execution_count": null,
   "id": "dbd7a4ee",
   "metadata": {},
   "outputs": [],
   "source": [
    "#KATA 11\n",
    "\n",
    "def pedir_edad():\n",
    "    try:\n",
    "        edad = int(input(\"Introduce tu edad: \"))\n",
    "        if edad < 0 or edad > 120:\n",
    "            raise ValueError(\"Edad fuera del rango permitido (0-120).\")\n",
    "    except ValueError as e:\n",
    "        print(f\"Error: {e}\")\n",
    "    else:\n",
    "        print(f\"Edad válida: {edad} años.\")\n",
    "    finally:\n",
    "        print(\"Programa finalizado.\")"
   ]
  },
  {
   "cell_type": "code",
   "execution_count": 4,
   "id": "d7451aaa",
   "metadata": {},
   "outputs": [
    {
     "name": "stdout",
     "output_type": "stream",
     "text": [
      "[3, 3, 2, 4, 2]\n"
     ]
    }
   ],
   "source": [
    "# KATA 12\n",
    "\n",
    "def longitud_palabra(frase):\n",
    "    palabras = frase.split()\n",
    "    return list(map(len, palabras))\n",
    "\n",
    "frase = \"Voy por la kata 12\"\n",
    "resultado = longitud_palabra(frase)\n",
    "print(resultado)\n"
   ]
  },
  {
   "cell_type": "code",
   "execution_count": null,
   "id": "326b9655",
   "metadata": {},
   "outputs": [
    {
     "name": "stdout",
     "output_type": "stream",
     "text": [
      "[('B', 'b'), ('R', 'r'), ('I', 'i'), ('C', 'c'), ('T', 't'), ('E', 'e'), ('U', 'u'), ('O', 'o')]\n"
     ]
    }
   ],
   "source": [
    "# KATA 13\n",
    "\n",
    "def letra_mayus_minus(caracteres):\n",
    "    letra = set(caracteres)\n",
    "    return list(map(lambda c: (c.upper(), c.lower()), letra))\n",
    "\n",
    "conjunto = \"CubIeRTo\"\n",
    "resultado = letra_mayus_minus(conjunto)\n",
    "print(resultado)"
   ]
  },
  {
   "cell_type": "code",
   "execution_count": null,
   "id": "b63005c6",
   "metadata": {},
   "outputs": [
    {
     "name": "stdout",
     "output_type": "stream",
     "text": [
      "['coliflor', 'calabacin']\n"
     ]
    }
   ],
   "source": [
    "# KATA 14\n",
    "\n",
    "def palabras_con_letra(lista_palabras, letra):\n",
    "    return list(filter(lambda palabra: palabra.startswith(letra), lista_palabras))\n",
    "\n",
    "palabras = [\"coliflor\", \"zanahoria\", \"calabacin\", \"berenjena\"]\n",
    "resultado = palabras_con_letra(palabras, \"c\")\n",
    "print(resultado)"
   ]
  },
  {
   "cell_type": "code",
   "execution_count": 1,
   "id": "338e08f9",
   "metadata": {},
   "outputs": [
    {
     "name": "stdout",
     "output_type": "stream",
     "text": [
      "[5, 7, 9, 11, 13]\n"
     ]
    }
   ],
   "source": [
    "# KATA 15\n",
    "\n",
    "def suma_numeros(lista_numeros):\n",
    "    return list(map(lambda x: x + 3, lista_numeros))\n",
    "\n",
    "numeros = [2, 4, 6, 8, 10]\n",
    "resultado = suma_numeros(numeros)\n",
    "print(resultado)"
   ]
  },
  {
   "cell_type": "code",
   "execution_count": 5,
   "id": "ec75ffb4",
   "metadata": {},
   "outputs": [
    {
     "name": "stdout",
     "output_type": "stream",
     "text": [
      "['aprendiendo', 'ejercicios']\n"
     ]
    }
   ],
   "source": [
    "# KATA 16\n",
    "\n",
    "def palabras_largas(texto, n):\n",
    "    palabras = texto.split()\n",
    "    return list(filter(lambda palabra: len(palabra) > n, palabras))\n",
    "\n",
    "frase = \"Estoy aprendiendo mucho Python con estos ejercicios\"\n",
    "resultado = palabras_largas(frase, 6)\n",
    "print(resultado)\n",
    "\n"
   ]
  },
  {
   "cell_type": "code",
   "execution_count": 6,
   "id": "f69f5060",
   "metadata": {},
   "outputs": [
    {
     "name": "stdout",
     "output_type": "stream",
     "text": [
      "572\n"
     ]
    }
   ],
   "source": [
    "# KATA 17\n",
    "from functools import reduce\n",
    "\n",
    "def lista_a_numero(digitos):\n",
    "    return reduce(lambda x, y: x * 10 + y, digitos)\n",
    "\n",
    "digitos = [5, 7, 2]\n",
    "resultado = lista_a_numero(digitos)\n",
    "print(resultado)\n"
   ]
  },
  {
   "cell_type": "code",
   "execution_count": null,
   "id": "54eed663",
   "metadata": {},
   "outputs": [],
   "source": [
    "# KATA 18\n",
    "\n",
    "estudiantes = [\n",
    "    {\"nombre\": \"Laura\", \"edad\": 19, \"calificacion\": 95},\n",
    "    {\"nombre\": \"Luis\", \"edad\": 22, \"calificacion\": 80},\n",
    "    {\"nombre\": \"Nuria\", \"edad\": 24, \"calificacion\": 100},\n",
    "    {\"nombre\": \"Rafa\", \"edad\": 23, \"calificacion\": 85},\n",
    "    {\"nombre\": \"Paco\", \"edad\": 20, \"calificacion\": 99}\n",
    "]\n",
    "\n",
    "aprobados = list(filter(lambda est: est[\"calificacion\"] >= 90, estudiantes))\n",
    "print(aprobados)"
   ]
  },
  {
   "cell_type": "code",
   "execution_count": null,
   "id": "7f2e839a",
   "metadata": {},
   "outputs": [],
   "source": [
    "# KATA 19\n",
    "from functools import reduce\n",
    "\n",
    "impares = list(filter(lambda x: x % 2 != 0, [1, 2, 3, 4, 5, 6, 7]))\n",
    "print(\"Impares:\", impares)"
   ]
  },
  {
   "cell_type": "code",
   "execution_count": null,
   "id": "f5a9e523",
   "metadata": {},
   "outputs": [],
   "source": [
    "# KATA 20\n",
    "\n",
    "mixta = [1, \"hola\", 2, \"mundo\", 3, 4, \"python\"]\n",
    "solo_enteros = list(filter(lambda x: isinstance(x, int), mixta))\n",
    "print(\"Sólo enteros:\", solo_enteros)"
   ]
  },
  {
   "cell_type": "code",
   "execution_count": null,
   "id": "fe412c54",
   "metadata": {},
   "outputs": [],
   "source": [
    "# KATA 21\n",
    "\n",
    "cubo = lambda x: x ** 3\n",
    "print(\"Cubo de 4:\", cubo(4))"
   ]
  },
  {
   "cell_type": "code",
   "execution_count": null,
   "id": "60e8e03f",
   "metadata": {},
   "outputs": [],
   "source": [
    "# KATA 22\n",
    "\n",
    "from functools import reduce\n",
    "\n",
    "numeros = [2, 3, 4]\n",
    "producto = reduce(lambda x, y: x * y, numeros)\n",
    "print(\"Producto total:\", producto)"
   ]
  },
  {
   "cell_type": "code",
   "execution_count": null,
   "id": "aaa8319f",
   "metadata": {},
   "outputs": [],
   "source": [
    "# KATA 23 \n",
    "\n",
    "palabras = [\"Hola\", \"mundo\", \"Python\"]\n",
    "frase = reduce(lambda x, y: x + \" \" + y, palabras)\n",
    "print(\"Frase concatenada:\", frase)"
   ]
  },
  {
   "cell_type": "code",
   "execution_count": null,
   "id": "5df7d2dc",
   "metadata": {},
   "outputs": [],
   "source": [
    "# KATA 24\n",
    "\n",
    "valores = [20, 5, 3]\n",
    "diferencia = reduce(lambda x, y: x - y, valores)\n",
    "print(\"Diferencia total:\", diferencia)"
   ]
  },
  {
   "cell_type": "code",
   "execution_count": null,
   "id": "11cd50dc",
   "metadata": {},
   "outputs": [],
   "source": [
    "# KATA 25\n",
    "\n",
    "def contar_caracteres(cadena):\n",
    "    return len(cadena)\n",
    "\n",
    "texto = \"Python es genial\"\n",
    "print(\"Número de caracteres:\", contar_caracteres(texto))"
   ]
  },
  {
   "cell_type": "code",
   "execution_count": null,
   "id": "4db4ec40",
   "metadata": {},
   "outputs": [],
   "source": [
    "# KATA 26\n",
    "\n",
    "div_resto = lambda x, y: x % y\n",
    "print(\"Resto de 17/5:\", div_resto(17, 5))"
   ]
  },
  {
   "cell_type": "code",
   "execution_count": null,
   "id": "ac32c4c5",
   "metadata": {},
   "outputs": [],
   "source": [
    "# KATA 27\n",
    "\n",
    "def promedio(lista):\n",
    "    return sum(lista) / len(lista) if lista else None\n",
    "print(\"Promedio:\", promedio([2, 4, 6, 8]))"
   ]
  },
  {
   "cell_type": "code",
   "execution_count": null,
   "id": "b44567f3",
   "metadata": {},
   "outputs": [],
   "source": [
    "# KATA 28\n",
    "\n",
    "def primer_duplicado(lista):\n",
    "    vistos = set()\n",
    "    for elem in lista:\n",
    "        if elem in vistos:\n",
    "            return elem\n",
    "        vistos.add(elem)\n",
    "    return None\n",
    "print(\"Primer duplicado:\", primer_duplicado([1, 2, 3, 2, 5]))"
   ]
  },
  {
   "cell_type": "code",
   "execution_count": null,
   "id": "73a0d253",
   "metadata": {},
   "outputs": [],
   "source": [
    "# KATA 29\n",
    "\n",
    "def enmascarar_variable(var):\n",
    "    s = str(var)\n",
    "    return '#' * max(0, len(s) - 4) + s[-4:]\n",
    "print(\"Enmascarado:\", enmascarar_variable(123456789))"
   ]
  },
  {
   "cell_type": "code",
   "execution_count": null,
   "id": "82b695a4",
   "metadata": {},
   "outputs": [],
   "source": [
    "# KATA 30\n",
    "\n",
    "def son_anagramas(pal1, pal2):\n",
    "    return sorted(pal1.replace(' ', '').lower()) == sorted(pal2.replace(' ', '').lower())\n",
    "print(\"Anagramas:\", son_anagramas(\"Roma\", \"Amor\"))"
   ]
  },
  {
   "cell_type": "code",
   "execution_count": null,
   "id": "c9cc2e8d",
   "metadata": {},
   "outputs": [],
   "source": [
    "# KATA 31\n",
    "\n",
    "def busca_nombre():\n",
    "    try:\n",
    "        nombres = input(\"Introduce nombres separados por coma: \").split(',')\n",
    "        nombres = [n.strip() for n in nombres]\n",
    "        nombre_buscar = input(\"Introduce el nombre a buscar: \").strip()\n",
    "        if nombre_buscar in nombres:\n",
    "            print(f\"{nombre_buscar} fue encontrado en la lista.\")\n",
    "        else:\n",
    "            raise ValueError(f\"{nombre_buscar} no está en la lista.\")\n",
    "    except ValueError as e:\n",
    "        print(f\"Error: {e}\")\n",
    "busca_nombre()"
   ]
  },
  {
   "cell_type": "code",
   "execution_count": null,
   "id": "02732509",
   "metadata": {},
   "outputs": [],
   "source": [
    "# KATA 32\n",
    "\n",
    "def busca_nombre():\n",
    "    try:\n",
    "        nombres = input(\"Introduce nombres separados por coma: \").split(',')\n",
    "        nombres = [n.strip() for n in nombres]\n",
    "        nombre_buscar = input(\"Introduce el nombre a buscar: \").strip()\n",
    "        if nombre_buscar in nombres:\n",
    "            print(f\"{nombre_buscar} fue encontrado en la lista.\")\n",
    "        else:\n",
    "            raise ValueError(f\"{nombre_buscar} no está en la lista.\")\n",
    "    except ValueError as e:\n",
    "        print(f\"Error: {e}\")"
   ]
  },
  {
   "cell_type": "code",
   "execution_count": null,
   "id": "1dd02bae",
   "metadata": {},
   "outputs": [],
   "source": [
    "# KATA 32\n",
    "\n",
    "def buscar_puesto(nombre_empleado, empleados):\n",
    "    for empleado in empleados:\n",
    "        if empleado[\"nombre\"] == nombre_empleado:\n",
    "            return empleado[\"puesto\"]\n",
    "    return \"La persona no trabaja aquí.\"\n",
    "\n",
    "\n",
    "empleados = [\n",
    "    {\"nombre\": \"Julia Entrenas\", \"puesto\": \"Analista\"},\n",
    "    {\"nombre\": \"Álvaro Rosa\", \"puesto\": \"Desarrollador\"},\n",
    "    {\"nombre\": \"Jara Calero\", \"puesto\": \"Gerente\"}\n",
    "]\n",
    "print(buscar_puesto(\"Jara Calero\", empleados))\n",
    "print(buscar_puesto(\"Julia Entrenas\", empleados))"
   ]
  },
  {
   "cell_type": "code",
   "execution_count": null,
   "id": "bc0477e7",
   "metadata": {},
   "outputs": [],
   "source": [
    "# KATA 33\n",
    "\n",
    "lista1 = [2, 4, 6]\n",
    "lista2 = [3, 6, 9]\n",
    "suma_listas = list(map(lambda x, y: x + y, lista1, lista2))\n",
    "print(\"Suma de listas:\", suma_listas)\n"
   ]
  },
  {
   "cell_type": "code",
   "execution_count": 2,
   "id": "5371985a",
   "metadata": {},
   "outputs": [
    {
     "name": "stdout",
     "output_type": "stream",
     "text": [
      "Información del árbol: {'longitud_tronco': 2, 'numero_ramas': 2, 'longitudes_ramas': [2, 1]}\n"
     ]
    }
   ],
   "source": [
    "# KATA 34\n",
    "\n",
    "class Arbol:\n",
    "    def __init__(self):\n",
    "        self.tronco = 1\n",
    "        self.ramas = []\n",
    "\n",
    "    def crecer_tronco(self):\n",
    "        self.tronco += 1\n",
    "\n",
    "    def nueva_rama(self):\n",
    "        self.ramas.append(1)\n",
    "\n",
    "    def crecer_ramas(self):\n",
    "        self.ramas = [r + 1 for r in self.ramas]\n",
    "\n",
    "    def quitar_rama(self, posicion):\n",
    "        if 0 <= posicion < len(self.ramas):\n",
    "            self.ramas.pop(posicion)\n",
    "        else:\n",
    "            print(\"Posición de rama no válida.\")\n",
    "\n",
    "    def info_arbol(self):\n",
    "        return {\n",
    "            \"longitud_tronco\": self.tronco,\n",
    "            \"numero_ramas\": len(self.ramas),\n",
    "            \"longitudes_ramas\": self.ramas\n",
    "        }\n",
    "\n",
    "\n",
    "arbol = Arbol()\n",
    "arbol.crecer_tronco()           \n",
    "arbol.nueva_rama()              \n",
    "arbol.crecer_ramas()            \n",
    "arbol.nueva_rama()              \n",
    "arbol.nueva_rama()              \n",
    "arbol.quitar_rama(2)            \n",
    "info = arbol.info_arbol()\n",
    "print(\"Información del árbol:\", info)"
   ]
  },
  {
   "cell_type": "code",
   "execution_count": 5,
   "id": "ea761a3c",
   "metadata": {},
   "outputs": [
    {
     "name": "stdout",
     "output_type": "stream",
     "text": [
      "Usuario: Julia, Saldo: 20, Cuenta Corriente: True\n",
      "Usuario: Jara, Saldo: 150, Cuenta Corriente: True\n"
     ]
    }
   ],
   "source": [
    "# KATA 36\n",
    "\n",
    "class UsuarioBanco:\n",
    "    def __init__(self, nombre, saldo, cuenta_corriente):\n",
    "        self.nombre = nombre\n",
    "        self.saldo = saldo\n",
    "        self.cuenta_corriente = cuenta_corriente\n",
    "\n",
    "    def retirar_dinero(self, cantidad):\n",
    "        if cantidad > self.saldo:\n",
    "            raise ValueError(f\"{self.nombre} no tiene suficiente saldo para retirar {cantidad}.\")\n",
    "        self.saldo -= cantidad\n",
    "\n",
    "    def transferir_dinero(self, otro_usuario, cantidad):\n",
    "        if cantidad > self.saldo:\n",
    "            raise ValueError(f\"{self.nombre} no tiene suficiente saldo para transferir {cantidad}.\")\n",
    "        self.saldo -= cantidad\n",
    "        otro_usuario.saldo += cantidad\n",
    "\n",
    "    def agregar_dinero(self, cantidad):\n",
    "        self.saldo += cantidad\n",
    "\n",
    "    def __str__(self):\n",
    "        return f\"Usuario: {self.nombre}, Saldo: {self.saldo}, Cuenta Corriente: {self.cuenta_corriente}\"\n",
    "\n",
    "\n",
    "Julia = UsuarioBanco(\"Julia\", 100, True)\n",
    "Jara = UsuarioBanco(\"Jara\", 50, True)\n",
    "\n",
    "Jara.agregar_dinero(20) \n",
    "Julia.transferir_dinero(Jara, 80)  \n",
    " \n",
    "\n",
    "print(Julia)\n",
    "print(Jara)\n"
   ]
  },
  {
   "cell_type": "code",
   "execution_count": null,
   "id": "73d945f4",
   "metadata": {},
   "outputs": [],
   "source": [
    "# KATA 37\n",
    "\n",
    "def contar_palabras(texto):\n",
    "    palabras = texto.split()\n",
    "    conteo = {}\n",
    "    for palabra in palabras:\n",
    "        palabra_limpia = palabra.strip('.,;:!?¡¿\"').lower()\n",
    "        conteo[palabra_limpia] = conteo.get(palabra_limpia, 0) + 1\n",
    "    return conteo\n",
    "\n",
    "def reemplazar_palabras(texto, palabra_original, palabra_nueva):\n",
    "    return texto.replace(palabra_original, palabra_nueva)\n",
    "\n",
    "def eliminar_palabra(texto, palabra_a_eliminar):\n",
    "    palabras = texto.split()\n",
    "    resultado = [p for p in palabras if p != palabra_a_eliminar]\n",
    "    return ' '.join(resultado)\n",
    "\n",
    "def procesar_texto(texto, opcion, *args):\n",
    "    if opcion == \"contar\":\n",
    "        return contar_palabras(texto)\n",
    "    elif opcion == \"reemplazar\":\n",
    "        if len(args) != 2:\n",
    "            raise ValueError(\"Para 'reemplazar' se requieren dos argumentos: palabra_original y palabra_nueva.\")\n",
    "        return reemplazar_palabras(texto, args[0], args[1])\n",
    "    elif opcion == \"eliminar\":\n",
    "        if len(args) != 1:\n",
    "            raise ValueError(\"Para 'eliminar' se requiere un argumento: palabra_a_eliminar.\")\n",
    "        return eliminar_palabra(texto, args[0])\n",
    "    else:\n",
    "        raise ValueError(\"Opción no válida. Usa 'contar', 'reemplazar' o 'eliminar'.\")\n",
    "\n",
    "\n",
    "ejemplo = \"Python es genial y Python es divertido. Python!\"\n",
    "print(\"Contar palabras:\", procesar_texto(ejemplo, \"contar\"))\n",
    "print(\"Reemplazar 'Python' por 'Java':\", procesar_texto(ejemplo, \"reemplazar\", \"Python\", \"Java\"))\n",
    "print(\"Eliminar 'es':\", procesar_texto(ejemplo, \"eliminar\", \"es\"))\n"
   ]
  },
  {
   "cell_type": "markdown",
   "id": "5eb5a913",
   "metadata": {},
   "source": [
    "**Explicación:**\n",
    "\n",
    "Se han definido las siguientes funciones para el procesamiento flexible de textos:\n",
    "\n",
    "- `contar_palabras`: Devuelve un diccionario con la frecuencia de cada palabra en el texto.\n",
    "- `reemplazar_palabras`: Reemplaza todas las apariciones de una palabra por otra en el texto.\n",
    "- `eliminar_palabra`: Elimina todas las apariciones de una palabra del texto.\n",
    "- `procesar_texto`: Función principal que recibe el texto, la opción a ejecutar (\"contar\", \"reemplazar\", \"eliminar\") y los argumentos necesarios según la opción. Llama internamente a la función correspondiente.\n",
    "\n",
    "El caso de uso muestra cómo utilizar `procesar_texto` para cada una de las opciones."
   ]
  },
  {
   "cell_type": "code",
   "execution_count": null,
   "id": "9e5dec01",
   "metadata": {},
   "outputs": [],
   "source": [
    "# KATA 38\n",
    "\n",
    "try:\n",
    "    hora = int(input(\"Introduce la hora (0-23): \"))\n",
    "    if hora < 0 or hora > 23:\n",
    "        print(\"Hora fuera de rango. Debe estar entre 0 y 23.\")\n",
    "    elif 6 <= hora < 12:\n",
    "        print(\"Es de día (mañana).\")\n",
    "    elif 12 <= hora < 20:\n",
    "        print(\"Es tarde.\")\n",
    "    else:\n",
    "        print(\"Es de noche.\")\n",
    "except ValueError:\n",
    "    print(\"Debes introducir un número entero válido.\")\n"
   ]
  },
  {
   "cell_type": "code",
   "execution_count": null,
   "id": "1ec564b2",
   "metadata": {},
   "outputs": [],
   "source": [
    "# KATA 39\n",
    "\n",
    "try:\n",
    "    nota = int(input(\"Introduce la calificación del alumno (0-100): \"))\n",
    "    if nota < 0 or nota > 100:\n",
    "        print(\"La calificación debe estar entre 0 y 100.\")\n",
    "    elif nota < 70:\n",
    "        print(\"Insuficiente\")\n",
    "    elif nota < 80:\n",
    "        print(\"Bien\")\n",
    "    elif nota < 90:\n",
    "        print(\"Muy bien\")\n",
    "    else:\n",
    "        print(\"Excelente\")\n",
    "except ValueError:\n",
    "    print(\"Debes introducir un número entero válido.\")\n"
   ]
  },
  {
   "cell_type": "code",
   "execution_count": null,
   "id": "405b0106",
   "metadata": {},
   "outputs": [],
   "source": [
    "# KATA 40\n",
    "\n",
    "def area_figura(figura, datos):\n",
    "    \"\"\"\n",
    "    Calcula el área de una figura geométrica.\n",
    "    figura: 'triangulo', 'rectangulo' o 'circulo'\n",
    "    datos: tupla con los datos necesarios\n",
    "        - triangulo: (base, altura)\n",
    "        - rectangulo: (base, altura)\n",
    "        - circulo: (radio,)\n",
    "    \"\"\"\n",
    "    if figura == \"triangulo\":\n",
    "        base, altura = datos\n",
    "        return (base * altura) / 2\n",
    "    elif figura == \"rectangulo\":\n",
    "        base, altura = datos\n",
    "        return base * altura\n",
    "    elif figura == \"circulo\":\n",
    "        (radio,) = datos\n",
    "        from math import pi\n",
    "        return pi * radio ** 2\n",
    "    else:\n",
    "        raise ValueError(\"Figura no soportada. Usa 'triangulo', 'rectangulo' o 'circulo'.\")\n",
    "\n",
    "\n",
    "print(\"Área triángulo (base=4, altura=3):\", area_figura(\"triangulo\", (4, 3)))\n",
    "print(\"Área rectángulo (base=5, altura=2):\", area_figura(\"rectangulo\", (5, 2)))\n",
    "print(\"Área círculo (radio=3):\", area_figura(\"circulo\", (3,)))\n"
   ]
  },
  {
   "cell_type": "code",
   "execution_count": null,
   "id": "bc30ea60",
   "metadata": {},
   "outputs": [],
   "source": [
    "# KATA 41\n",
    "\n",
    "try:\n",
    "    precio = float(input(\"Introduce el precio original del artículo (€): \"))\n",
    "    tiene_cupon = input(\"¿Tienes un cupón de descuento? (sí/no): \").strip().lower()\n",
    "    if tiene_cupon == \"sí\" or tiene_cupon == \"si\":\n",
    "        valor_cupon = float(input(\"Introduce el valor del cupón de descuento (€): \"))\n",
    "        if valor_cupon > 0:\n",
    "            precio_final = max(0, precio - valor_cupon)\n",
    "            print(f\"Precio final tras aplicar el cupón: {precio_final} €\")\n",
    "        else:\n",
    "            print(f\"Cupón no válido. Precio final: {precio} €\")\n",
    "    else:\n",
    "        print(f\"Precio final sin descuento: {precio} €\")\n",
    "except ValueError:\n",
    "    print(\"Debes introducir valores numéricos válidos.\")\n"
   ]
  }
 ],
 "metadata": {
  "kernelspec": {
   "display_name": "Python 3",
   "language": "python",
   "name": "python3"
  },
  "language_info": {
   "codemirror_mode": {
    "name": "ipython",
    "version": 3
   },
   "file_extension": ".py",
   "mimetype": "text/x-python",
   "name": "python",
   "nbconvert_exporter": "python",
   "pygments_lexer": "ipython3",
   "version": "3.13.1"
  }
 },
 "nbformat": 4,
 "nbformat_minor": 5
}
