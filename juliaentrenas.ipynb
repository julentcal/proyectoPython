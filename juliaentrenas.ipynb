{
 "cells": [
  {
   "cell_type": "code",
   "execution_count": null,
   "id": "3433b158",
   "metadata": {},
   "outputs": [],
   "source": [
    "# KATA 1\n",
    "\n",
    "def contar_letras(cadena):\n",
    "    frecuencias = {}\n",
    "    for letra in cadena:\n",
    "        if letra != ' ':\n",
    "            if letra in frecuencias:\n",
    "                frecuencias[letra] += 1\n",
    "            else:\n",
    "                frecuencias[letra] = 1\n",
    "    return frecuencias\n"
   ]
  },
  {
   "cell_type": "code",
   "execution_count": 9,
   "id": "9be3aed5",
   "metadata": {},
   "outputs": [
    {
     "name": "stdout",
     "output_type": "stream",
     "text": [
      "{'k': 1, 'a': 2, 't': 2, 's': 1, 'd': 1, 'e': 1, 'p': 1, 'y': 1, 'h': 1, 'o': 1, 'n': 1}\n"
     ]
    }
   ],
   "source": [
    "texto = \"katas de python\"\n",
    "resultado = contar_letras(texto)\n",
    "print(resultado)"
   ]
  },
  {
   "cell_type": "code",
   "execution_count": 10,
   "id": "606937f8",
   "metadata": {},
   "outputs": [
    {
     "name": "stdout",
     "output_type": "stream",
     "text": [
      "[4, 8, 12, 16, 20]\n"
     ]
    }
   ],
   "source": [
    "# KATA 2\n",
    "\n",
    "numeros = [2, 4, 6, 8, 10]\n",
    "dobles = list(map(lambda x: x * 2, numeros))\n",
    "print(dobles)\n",
    "\n"
   ]
  },
  {
   "cell_type": "code",
   "execution_count": null,
   "id": "e8ba8a53",
   "metadata": {},
   "outputs": [
    {
     "name": "stdout",
     "output_type": "stream",
     "text": [
      "['camion', 'charcon', 'python']\n"
     ]
    }
   ],
   "source": [
    "# KATA 3\n",
    "\n",
    "def buscar_letras_palabras(lista_palabras, objetivo):\n",
    "    return [palabra for palabra in lista_palabras if objetivo in palabra]\n",
    "\n",
    "palabras = [\"camion\", \"charcon\", \"python\", \"perro\", \"ordenador\"]\n",
    "resultado = buscar_letras_palabras(palabras, \"on\")\n",
    "print(resultado)\n",
    "\n"
   ]
  },
  {
   "cell_type": "code",
   "execution_count": null,
   "id": "6935c41f",
   "metadata": {},
   "outputs": [],
   "source": [
    "# KATA 4\n",
    "\n",
    "def diferencia_listas(lista1, lista2):\n",
    "    return list(map(lambda x, y: x - y, lista1, lista2))\n",
    "\n",
    "\n",
    "l1 = [10, 20, 30, 40]\n",
    "l2 = [1, 2, 3, 4]\n",
    "diferencias = diferencia_listas(l1, l2)\n",
    "print(diferencias)"
   ]
  },
  {
   "cell_type": "code",
   "execution_count": 13,
   "id": "0d83e9a7",
   "metadata": {},
   "outputs": [
    {
     "name": "stdout",
     "output_type": "stream",
     "text": [
      "(5.2, 'aprobado')\n"
     ]
    }
   ],
   "source": [
    "# KATA 5\n",
    "\n",
    "def evaluar_media(lista_numeros, nota_aprobado=5):\n",
    "    if not lista_numeros:\n",
    "        return (None, \"sin datos\")\n",
    "    media = sum(lista_numeros) / len(lista_numeros)\n",
    "    estado = \"aprobado\" if media >= nota_aprobado else \"suspenso\"\n",
    "    return (media, estado)\n",
    "\n",
    "\n",
    "notas = [5, 7, 6, 5, 3]\n",
    "resultado = evaluar_media(notas)\n",
    "print(resultado)\n",
    "\n"
   ]
  },
  {
   "cell_type": "code",
   "execution_count": null,
   "id": "b8d1f063",
   "metadata": {},
   "outputs": [],
   "source": [
    "# KATA 6\n",
    "\n",
    "def factorial(n):\n",
    "    if n == 0 or n == 1:\n",
    "        return 1\n",
    "    else:\n",
    "        return n * factorial(n - 1)\n",
    "    \n",
    "\n",
    "print(factorial(6))\n",
    "\n"
   ]
  },
  {
   "cell_type": "code",
   "execution_count": null,
   "id": "14966bdd",
   "metadata": {},
   "outputs": [
    {
     "name": "stdout",
     "output_type": "stream",
     "text": [
      "[\"(1, 'enero')\", \"(2, 'febrero')\", \"(3, 'marzo')\"]\n"
     ]
    }
   ],
   "source": [
    "# KATA 7\n",
    "\n",
    "def tuplas_strings(lista_tuplas):\n",
    "    return list(map(str, lista_tuplas))\n",
    "\n",
    "\n",
    "tuplas = [(1, 'enero'), (2, 'febrero'), (3, 'marzo')]\n",
    "resultado = tuplas_strings(tuplas)\n",
    "print(resultado)\n"
   ]
  },
  {
   "cell_type": "code",
   "execution_count": null,
   "id": "98009088",
   "metadata": {},
   "outputs": [],
   "source": [
    "# KATA 8\n",
    "\n",
    "try:\n",
    "    num1 = float(input(\"Introduce el primer número: \"))\n",
    "    num2 = float(input(\"Introduce el segundo número: \"))\n",
    "    resultado = num1 / num2\n",
    "except ValueError:\n",
    "    print(\"Error: Debes ingresar valores numéricos.\")\n",
    "except ZeroDivisionError:\n",
    "    print(\"Error: No se puede dividir por cero.\")\n",
    "else:\n",
    "    print(f\"Se puede dividir. El resultado es: {resultado}\")\n",
    "finally:\n",
    "    print(\"Programa finalizado.\")\n"
   ]
  },
  {
   "cell_type": "code",
   "execution_count": null,
   "id": "50f5d064",
   "metadata": {},
   "outputs": [
    {
     "name": "stdout",
     "output_type": "stream",
     "text": [
      "['Perro', 'Gato', 'Canario', 'Serpiente']\n"
     ]
    }
   ],
   "source": [
    "# KATA 9\n",
    "\n",
    "def filtrar_mascotas(lista_mascotas):\n",
    "    prohibidas = [\"Mapache\", \"Tigre\", \"Serpiente Pitón\", \"Cocodrilo\", \"Oso\"]\n",
    "    return list(filter(lambda m: m not in prohibidas, lista_mascotas))\n",
    "\n",
    "mascotas = [\"Perro\", \"Gato\", \"Tigre\", \"Canario\", \"Mapache\", \"Serpiente\"]\n",
    "resultado = filtrar_mascotas(mascotas)\n",
    "print(resultado)\n",
    "\n"
   ]
  },
  {
   "cell_type": "code",
   "execution_count": 17,
   "id": "1797073c",
   "metadata": {},
   "outputs": [
    {
     "name": "stdout",
     "output_type": "stream",
     "text": [
      "Error: La lista está vacía, no se puede calcular el promedio.\n"
     ]
    }
   ],
   "source": [
    "# KATA 10\n",
    "\n",
    "class ListaVaciaError(Exception):\n",
    "    pass\n",
    "\n",
    "def calcular_promedio(lista):\n",
    "    if not lista:\n",
    "        raise ListaVaciaError(\"La lista está vacía, no se puede calcular el promedio.\")\n",
    "    return sum(lista) / len(lista)\n",
    "\n",
    "try:\n",
    "    numeros = []\n",
    "    promedio = calcular_promedio(numeros)\n",
    "    print(f\"El promedio es: {promedio}\")\n",
    "except ListaVaciaError as e:\n",
    "    print(f\"Error: {e}\")\n",
    "\n"
   ]
  },
  {
   "cell_type": "code",
   "execution_count": null,
   "id": "dbd7a4ee",
   "metadata": {},
   "outputs": [],
   "source": [
    "#KATA 11\n",
    "\n",
    "def pedir_edad():\n",
    "    try:\n",
    "        edad = int(input(\"Introduce tu edad: \"))\n",
    "        if edad < 0 or edad > 120:\n",
    "            raise ValueError(\"Edad fuera del rango permitido (0-120).\")\n",
    "    except ValueError as e:\n",
    "        print(f\"Error: {e}\")\n",
    "    else:\n",
    "        print(f\"Edad válida: {edad} años.\")\n",
    "    finally:\n",
    "        print(\"Programa finalizado.\")"
   ]
  },
  {
   "cell_type": "code",
   "execution_count": 4,
   "id": "d7451aaa",
   "metadata": {},
   "outputs": [
    {
     "name": "stdout",
     "output_type": "stream",
     "text": [
      "[3, 3, 2, 4, 2]\n"
     ]
    }
   ],
   "source": [
    "# KATA 12\n",
    "\n",
    "def longitud_palabra(frase):\n",
    "    palabras = frase.split()\n",
    "    return list(map(len, palabras))\n",
    "\n",
    "frase = \"Voy por la kata 12\"\n",
    "resultado = longitud_palabra(frase)\n",
    "print(resultado)\n"
   ]
  },
  {
   "cell_type": "code",
   "execution_count": null,
   "id": "326b9655",
   "metadata": {},
   "outputs": [
    {
     "name": "stdout",
     "output_type": "stream",
     "text": [
      "[('B', 'b'), ('R', 'r'), ('I', 'i'), ('C', 'c'), ('T', 't'), ('E', 'e'), ('U', 'u'), ('O', 'o')]\n"
     ]
    }
   ],
   "source": [
    "# KATA 13\n",
    "\n",
    "def letra_mayus_minus(caracteres):\n",
    "    letra = set(caracteres)\n",
    "    return list(map(lambda c: (c.upper(), c.lower()), letra))\n",
    "\n",
    "conjunto = \"CubIeRTo\"\n",
    "resultado = letra_mayus_minus(conjunto)\n",
    "print(resultado)"
   ]
  },
  {
   "cell_type": "code",
   "execution_count": null,
   "id": "b63005c6",
   "metadata": {},
   "outputs": [
    {
     "name": "stdout",
     "output_type": "stream",
     "text": [
      "['coliflor', 'calabacin']\n"
     ]
    }
   ],
   "source": [
    "# KATA 14\n",
    "\n",
    "def palabras_con_letra(lista_palabras, letra):\n",
    "    return list(filter(lambda palabra: palabra.startswith(letra), lista_palabras))\n",
    "\n",
    "palabras = [\"coliflor\", \"zanahoria\", \"calabacin\", \"berenjena\"]\n",
    "resultado = palabras_con_letra(palabras, \"c\")\n",
    "print(resultado)"
   ]
  }
 ],
 "metadata": {
  "kernelspec": {
   "display_name": "Python 3",
   "language": "python",
   "name": "python3"
  },
  "language_info": {
   "codemirror_mode": {
    "name": "ipython",
    "version": 3
   },
   "file_extension": ".py",
   "mimetype": "text/x-python",
   "name": "python",
   "nbconvert_exporter": "python",
   "pygments_lexer": "ipython3",
   "version": "3.13.1"
  }
 },
 "nbformat": 4,
 "nbformat_minor": 5
}
